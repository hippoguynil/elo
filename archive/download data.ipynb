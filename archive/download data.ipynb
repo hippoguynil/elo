{
 "cells": [
  {
   "cell_type": "code",
   "execution_count": null,
   "metadata": {},
   "outputs": [
    {
     "name": "stdout",
     "output_type": "stream",
     "text": [
      "Football data saved to football_data.csv\n"
     ]
    }
   ],
   "source": [
    "import requests\n",
    "import pandas as pd\n",
    "\n",
    "def download_football_data():\n",
    "    # Define the URL for the data\n",
    "    url = \"https://www.football-data.co.uk/mmz4281/2526/E0.csv\"\n",
    "\n",
    "\n",
    "    try:\n",
    "        # Fetch the data\n",
    "        response = requests.get(url)\n",
    "        response.raise_for_status()\n",
    "\n",
    "        # Read the CSV data into a DataFrame\n",
    "        df = pd.read_csv(url)\n",
    "\n",
    "        # Save the data to a CSV file\n",
    "        df.to_csv(\"data/pl/pl_2023_2024.csv\", index=False)\n",
    "        print(\"Football data saved to football_data.csv\")\n",
    "\n",
    "    except requests.exceptions.RequestException as e:\n",
    "        print(f\"Error fetching data: {e}\")\n",
    "\n",
    "if __name__ == \"__main__\":\n",
    "    download_football_data()"
   ]
  }
 ],
 "metadata": {
  "kernelspec": {
   "display_name": "base",
   "language": "python",
   "name": "python3"
  },
  "language_info": {
   "codemirror_mode": {
    "name": "ipython",
    "version": 3
   },
   "file_extension": ".py",
   "mimetype": "text/x-python",
   "name": "python",
   "nbconvert_exporter": "python",
   "pygments_lexer": "ipython3",
   "version": "3.13.5"
  }
 },
 "nbformat": 4,
 "nbformat_minor": 2
}
